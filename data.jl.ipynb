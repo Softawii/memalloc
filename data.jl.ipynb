{
 "cells": [
  {
   "cell_type": "code",
   "execution_count": 22,
   "metadata": {},
   "outputs": [],
   "source": [
    "using DataFrames\n",
    "using CSV\n",
    "using Plots"
   ]
  },
  {
   "cell_type": "code",
   "execution_count": 20,
   "metadata": {},
   "outputs": [
    {
     "data": {
      "text/html": [
       "<div class=\"data-frame\"><p>3,710 rows × 4 columns</p><table class=\"data-frame\"><thead><tr><th></th><th>test</th><th>type</th><th>interactions</th><th>elapsed_time</th></tr><tr><th></th><th title=\"String\">String</th><th title=\"String\">String</th><th title=\"Int64\">Int64</th><th title=\"Float64\">Float64</th></tr></thead><tbody><tr><th>1</th><td>test_base</td><td>memalloc</td><td>1</td><td>0.026</td></tr><tr><th>2</th><td>test_base</td><td>std</td><td>1</td><td>0.001</td></tr><tr><th>3</th><td>test_base</td><td>memalloc</td><td>11</td><td>0.329</td></tr><tr><th>4</th><td>test_base</td><td>std</td><td>11</td><td>0.001</td></tr><tr><th>5</th><td>test_base</td><td>memalloc</td><td>21</td><td>0.396</td></tr><tr><th>6</th><td>test_base</td><td>std</td><td>21</td><td>0.008</td></tr><tr><th>7</th><td>test_base</td><td>memalloc</td><td>31</td><td>0.607</td></tr><tr><th>8</th><td>test_base</td><td>std</td><td>31</td><td>0.019</td></tr><tr><th>9</th><td>test_base</td><td>memalloc</td><td>41</td><td>0.873</td></tr><tr><th>10</th><td>test_base</td><td>std</td><td>41</td><td>0.024</td></tr><tr><th>11</th><td>test_base</td><td>memalloc</td><td>51</td><td>1.018</td></tr><tr><th>12</th><td>test_base</td><td>std</td><td>51</td><td>0.037</td></tr><tr><th>13</th><td>test_base</td><td>memalloc</td><td>61</td><td>1.173</td></tr><tr><th>14</th><td>test_base</td><td>std</td><td>61</td><td>0.047</td></tr><tr><th>15</th><td>test_base</td><td>memalloc</td><td>71</td><td>1.329</td></tr><tr><th>16</th><td>test_base</td><td>std</td><td>71</td><td>0.041</td></tr><tr><th>17</th><td>test_base</td><td>memalloc</td><td>81</td><td>1.523</td></tr><tr><th>18</th><td>test_base</td><td>std</td><td>81</td><td>0.046</td></tr><tr><th>19</th><td>test_base</td><td>memalloc</td><td>91</td><td>1.845</td></tr><tr><th>20</th><td>test_base</td><td>std</td><td>91</td><td>0.055</td></tr><tr><th>21</th><td>test_base</td><td>memalloc</td><td>101</td><td>1.915</td></tr><tr><th>22</th><td>test_base</td><td>std</td><td>101</td><td>0.042</td></tr><tr><th>23</th><td>test_base</td><td>memalloc</td><td>111</td><td>3.605</td></tr><tr><th>24</th><td>test_base</td><td>std</td><td>111</td><td>0.042</td></tr><tr><th>25</th><td>test_base</td><td>memalloc</td><td>121</td><td>2.262</td></tr><tr><th>26</th><td>test_base</td><td>std</td><td>121</td><td>0.044</td></tr><tr><th>27</th><td>test_base</td><td>memalloc</td><td>131</td><td>2.718</td></tr><tr><th>28</th><td>test_base</td><td>std</td><td>131</td><td>0.054</td></tr><tr><th>29</th><td>test_base</td><td>memalloc</td><td>141</td><td>3.669</td></tr><tr><th>30</th><td>test_base</td><td>std</td><td>141</td><td>0.048</td></tr><tr><th>&vellip;</th><td>&vellip;</td><td>&vellip;</td><td>&vellip;</td><td>&vellip;</td></tr></tbody></table></div>"
      ],
      "text/latex": [
       "\\begin{tabular}{r|cccc}\n",
       "\t& test & type & interactions & elapsed\\_time\\\\\n",
       "\t\\hline\n",
       "\t& String & String & Int64 & Float64\\\\\n",
       "\t\\hline\n",
       "\t1 & test\\_base & memalloc & 1 & 0.026 \\\\\n",
       "\t2 & test\\_base & std & 1 & 0.001 \\\\\n",
       "\t3 & test\\_base & memalloc & 11 & 0.329 \\\\\n",
       "\t4 & test\\_base & std & 11 & 0.001 \\\\\n",
       "\t5 & test\\_base & memalloc & 21 & 0.396 \\\\\n",
       "\t6 & test\\_base & std & 21 & 0.008 \\\\\n",
       "\t7 & test\\_base & memalloc & 31 & 0.607 \\\\\n",
       "\t8 & test\\_base & std & 31 & 0.019 \\\\\n",
       "\t9 & test\\_base & memalloc & 41 & 0.873 \\\\\n",
       "\t10 & test\\_base & std & 41 & 0.024 \\\\\n",
       "\t11 & test\\_base & memalloc & 51 & 1.018 \\\\\n",
       "\t12 & test\\_base & std & 51 & 0.037 \\\\\n",
       "\t13 & test\\_base & memalloc & 61 & 1.173 \\\\\n",
       "\t14 & test\\_base & std & 61 & 0.047 \\\\\n",
       "\t15 & test\\_base & memalloc & 71 & 1.329 \\\\\n",
       "\t16 & test\\_base & std & 71 & 0.041 \\\\\n",
       "\t17 & test\\_base & memalloc & 81 & 1.523 \\\\\n",
       "\t18 & test\\_base & std & 81 & 0.046 \\\\\n",
       "\t19 & test\\_base & memalloc & 91 & 1.845 \\\\\n",
       "\t20 & test\\_base & std & 91 & 0.055 \\\\\n",
       "\t21 & test\\_base & memalloc & 101 & 1.915 \\\\\n",
       "\t22 & test\\_base & std & 101 & 0.042 \\\\\n",
       "\t23 & test\\_base & memalloc & 111 & 3.605 \\\\\n",
       "\t24 & test\\_base & std & 111 & 0.042 \\\\\n",
       "\t25 & test\\_base & memalloc & 121 & 2.262 \\\\\n",
       "\t26 & test\\_base & std & 121 & 0.044 \\\\\n",
       "\t27 & test\\_base & memalloc & 131 & 2.718 \\\\\n",
       "\t28 & test\\_base & std & 131 & 0.054 \\\\\n",
       "\t29 & test\\_base & memalloc & 141 & 3.669 \\\\\n",
       "\t30 & test\\_base & std & 141 & 0.048 \\\\\n",
       "\t$\\dots$ & $\\dots$ & $\\dots$ & $\\dots$ & $\\dots$ \\\\\n",
       "\\end{tabular}\n"
      ],
      "text/plain": [
       "\u001b[1m3710×4 DataFrame\u001b[0m\n",
       "\u001b[1m  Row \u001b[0m│\u001b[1m test                   \u001b[0m\u001b[1m type     \u001b[0m\u001b[1m interactions \u001b[0m\u001b[1m elapsed_time \u001b[0m\n",
       "\u001b[1m      \u001b[0m│\u001b[90m String                 \u001b[0m\u001b[90m String   \u001b[0m\u001b[90m Int64        \u001b[0m\u001b[90m Float64      \u001b[0m\n",
       "──────┼──────────────────────────────────────────────────────────────\n",
       "    1 │ test_base               memalloc             1         0.026\n",
       "    2 │ test_base               std                  1         0.001\n",
       "    3 │ test_base               memalloc            11         0.329\n",
       "    4 │ test_base               std                 11         0.001\n",
       "    5 │ test_base               memalloc            21         0.396\n",
       "    6 │ test_base               std                 21         0.008\n",
       "    7 │ test_base               memalloc            31         0.607\n",
       "    8 │ test_base               std                 31         0.019\n",
       "    9 │ test_base               memalloc            41         0.873\n",
       "   10 │ test_base               std                 41         0.024\n",
       "   11 │ test_base               memalloc            51         1.018\n",
       "  ⋮   │           ⋮                ⋮           ⋮             ⋮\n",
       " 3701 │ test_intensive_overlap  memalloc           461     22815.7\n",
       " 3702 │ test_intensive_overlap  std                461       791.575\n",
       " 3703 │ test_intensive_overlap  memalloc           471     22879.7\n",
       " 3704 │ test_intensive_overlap  std                471       854.667\n",
       " 3705 │ test_intensive_overlap  memalloc           481     23985.8\n",
       " 3706 │ test_intensive_overlap  std                481       906.9\n",
       " 3707 │ test_intensive_overlap  memalloc           491     30962.4\n",
       " 3708 │ test_intensive_overlap  std                491       988.702\n",
       " 3709 │ test_intensive_overlap  memalloc           501     33769.5\n",
       " 3710 │ test_intensive_overlap  std                501      1568.49\n",
       "\u001b[36m                                                    3689 rows omitted\u001b[0m"
      ]
     },
     "execution_count": 20,
     "metadata": {},
     "output_type": "execute_result"
    }
   ],
   "source": [
    "data = DataFrames.DataFrame(CSV.File(\"res/results.csv\"))"
   ]
  },
  {
   "cell_type": "code",
   "execution_count": 21,
   "metadata": {},
   "outputs": [
    {
     "name": "stdout",
     "output_type": "stream",
     "text": [
      "nrow(data) = 3710\n",
      "nrow(test_base) = 1002\n",
      "nrow(test_alloc_and_dealloc) = 1002\n",
      "nrow(test_alloc) = 602\n",
      "nrow(test_overlap) = 1002\n",
      "nrow(test_intensive_overlap) = 102\n"
     ]
    },
    {
     "data": {
      "text/plain": [
       "102"
      ]
     },
     "execution_count": 21,
     "metadata": {},
     "output_type": "execute_result"
    }
   ],
   "source": [
    "test_base              = filter(row -> row.test == \"test_base\", data)\n",
    "test_alloc_and_dealloc = filter(row -> row.test == \"test_alloc_and_dealloc\", data)\n",
    "test_alloc             = filter(row -> row.test == \"test_alloc\", data)\n",
    "test_overlap           = filter(row -> row.test == \"test_overlap\", data)\n",
    "test_intensive_overlap = filter(row -> row.test == \"test_intensive_overlap\", data)\n",
    "\n",
    "\n",
    "@show nrow(data)\n",
    "@show nrow(test_base)\n",
    "@show nrow(test_alloc_and_dealloc)\n",
    "@show nrow(test_alloc)\n",
    "@show nrow(test_overlap)\n",
    "@show nrow(test_intensive_overlap)"
   ]
  },
  {
   "cell_type": "code",
   "execution_count": null,
   "metadata": {},
   "outputs": [],
   "source": []
  }
 ],
 "metadata": {
  "kernelspec": {
   "display_name": "Julia 1.4.2",
   "language": "julia",
   "name": "julia-1.4"
  },
  "language_info": {
   "file_extension": ".jl",
   "mimetype": "application/julia",
   "name": "julia",
   "version": "1.4.2"
  }
 },
 "nbformat": 4,
 "nbformat_minor": 4
}
