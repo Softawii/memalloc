{
 "cells": [
  {
   "cell_type": "markdown",
   "metadata": {},
   "source": [
    "## Imports"
   ]
  },
  {
   "cell_type": "code",
   "execution_count": 5,
   "metadata": {},
   "outputs": [],
   "source": [
    "using DataFrames\n",
    "using CSV\n",
    "using Plots"
   ]
  },
  {
   "cell_type": "markdown",
   "metadata": {},
   "source": [
    "## Pegando o DataFrame principal"
   ]
  },
  {
   "cell_type": "code",
   "execution_count": 6,
   "metadata": {},
   "outputs": [
    {
     "data": {
      "text/html": [
       "<div class=\"data-frame\"><p>4,110 rows × 4 columns</p><table class=\"data-frame\"><thead><tr><th></th><th>test</th><th>type</th><th>interactions</th><th>elapsed_time</th></tr><tr><th></th><th title=\"String\">String</th><th title=\"String\">String</th><th title=\"Int64\">Int64</th><th title=\"Float64\">Float64</th></tr></thead><tbody><tr><th>1</th><td>test_base</td><td>memalloc</td><td>1</td><td>0.015</td></tr><tr><th>2</th><td>test_base</td><td>std</td><td>1</td><td>0.0</td></tr><tr><th>3</th><td>test_base</td><td>memalloc</td><td>11</td><td>0.068</td></tr><tr><th>4</th><td>test_base</td><td>std</td><td>11</td><td>0.001</td></tr><tr><th>5</th><td>test_base</td><td>memalloc</td><td>21</td><td>0.172</td></tr><tr><th>6</th><td>test_base</td><td>std</td><td>21</td><td>0.006</td></tr><tr><th>7</th><td>test_base</td><td>memalloc</td><td>31</td><td>0.129</td></tr><tr><th>8</th><td>test_base</td><td>std</td><td>31</td><td>0.007</td></tr><tr><th>9</th><td>test_base</td><td>memalloc</td><td>41</td><td>0.198</td></tr><tr><th>10</th><td>test_base</td><td>std</td><td>41</td><td>0.01</td></tr><tr><th>11</th><td>test_base</td><td>memalloc</td><td>51</td><td>0.293</td></tr><tr><th>12</th><td>test_base</td><td>std</td><td>51</td><td>0.015</td></tr><tr><th>13</th><td>test_base</td><td>memalloc</td><td>61</td><td>0.748</td></tr><tr><th>14</th><td>test_base</td><td>std</td><td>61</td><td>0.026</td></tr><tr><th>15</th><td>test_base</td><td>memalloc</td><td>71</td><td>0.39</td></tr><tr><th>16</th><td>test_base</td><td>std</td><td>71</td><td>0.026</td></tr><tr><th>17</th><td>test_base</td><td>memalloc</td><td>81</td><td>0.509</td></tr><tr><th>18</th><td>test_base</td><td>std</td><td>81</td><td>0.025</td></tr><tr><th>19</th><td>test_base</td><td>memalloc</td><td>91</td><td>0.48</td></tr><tr><th>20</th><td>test_base</td><td>std</td><td>91</td><td>0.021</td></tr><tr><th>21</th><td>test_base</td><td>memalloc</td><td>101</td><td>0.551</td></tr><tr><th>22</th><td>test_base</td><td>std</td><td>101</td><td>0.025</td></tr><tr><th>23</th><td>test_base</td><td>memalloc</td><td>111</td><td>1.011</td></tr><tr><th>24</th><td>test_base</td><td>std</td><td>111</td><td>0.058</td></tr><tr><th>25</th><td>test_base</td><td>memalloc</td><td>121</td><td>0.499</td></tr><tr><th>26</th><td>test_base</td><td>std</td><td>121</td><td>0.034</td></tr><tr><th>27</th><td>test_base</td><td>memalloc</td><td>131</td><td>0.697</td></tr><tr><th>28</th><td>test_base</td><td>std</td><td>131</td><td>0.022</td></tr><tr><th>29</th><td>test_base</td><td>memalloc</td><td>141</td><td>0.616</td></tr><tr><th>30</th><td>test_base</td><td>std</td><td>141</td><td>0.028</td></tr><tr><th>&vellip;</th><td>&vellip;</td><td>&vellip;</td><td>&vellip;</td><td>&vellip;</td></tr></tbody></table></div>"
      ],
      "text/latex": [
       "\\begin{tabular}{r|cccc}\n",
       "\t& test & type & interactions & elapsed\\_time\\\\\n",
       "\t\\hline\n",
       "\t& String & String & Int64 & Float64\\\\\n",
       "\t\\hline\n",
       "\t1 & test\\_base & memalloc & 1 & 0.015 \\\\\n",
       "\t2 & test\\_base & std & 1 & 0.0 \\\\\n",
       "\t3 & test\\_base & memalloc & 11 & 0.068 \\\\\n",
       "\t4 & test\\_base & std & 11 & 0.001 \\\\\n",
       "\t5 & test\\_base & memalloc & 21 & 0.172 \\\\\n",
       "\t6 & test\\_base & std & 21 & 0.006 \\\\\n",
       "\t7 & test\\_base & memalloc & 31 & 0.129 \\\\\n",
       "\t8 & test\\_base & std & 31 & 0.007 \\\\\n",
       "\t9 & test\\_base & memalloc & 41 & 0.198 \\\\\n",
       "\t10 & test\\_base & std & 41 & 0.01 \\\\\n",
       "\t11 & test\\_base & memalloc & 51 & 0.293 \\\\\n",
       "\t12 & test\\_base & std & 51 & 0.015 \\\\\n",
       "\t13 & test\\_base & memalloc & 61 & 0.748 \\\\\n",
       "\t14 & test\\_base & std & 61 & 0.026 \\\\\n",
       "\t15 & test\\_base & memalloc & 71 & 0.39 \\\\\n",
       "\t16 & test\\_base & std & 71 & 0.026 \\\\\n",
       "\t17 & test\\_base & memalloc & 81 & 0.509 \\\\\n",
       "\t18 & test\\_base & std & 81 & 0.025 \\\\\n",
       "\t19 & test\\_base & memalloc & 91 & 0.48 \\\\\n",
       "\t20 & test\\_base & std & 91 & 0.021 \\\\\n",
       "\t21 & test\\_base & memalloc & 101 & 0.551 \\\\\n",
       "\t22 & test\\_base & std & 101 & 0.025 \\\\\n",
       "\t23 & test\\_base & memalloc & 111 & 1.011 \\\\\n",
       "\t24 & test\\_base & std & 111 & 0.058 \\\\\n",
       "\t25 & test\\_base & memalloc & 121 & 0.499 \\\\\n",
       "\t26 & test\\_base & std & 121 & 0.034 \\\\\n",
       "\t27 & test\\_base & memalloc & 131 & 0.697 \\\\\n",
       "\t28 & test\\_base & std & 131 & 0.022 \\\\\n",
       "\t29 & test\\_base & memalloc & 141 & 0.616 \\\\\n",
       "\t30 & test\\_base & std & 141 & 0.028 \\\\\n",
       "\t$\\dots$ & $\\dots$ & $\\dots$ & $\\dots$ & $\\dots$ \\\\\n",
       "\\end{tabular}\n"
      ],
      "text/plain": [
       "\u001b[1m4110×4 DataFrame\u001b[0m\n",
       "\u001b[1m  Row \u001b[0m│\u001b[1m test                   \u001b[0m\u001b[1m type     \u001b[0m\u001b[1m interactions \u001b[0m\u001b[1m elapsed_time \u001b[0m\n",
       "\u001b[1m      \u001b[0m│\u001b[90m String                 \u001b[0m\u001b[90m String   \u001b[0m\u001b[90m Int64        \u001b[0m\u001b[90m Float64      \u001b[0m\n",
       "──────┼──────────────────────────────────────────────────────────────\n",
       "    1 │ test_base               memalloc             1         0.015\n",
       "    2 │ test_base               std                  1         0.0\n",
       "    3 │ test_base               memalloc            11         0.068\n",
       "    4 │ test_base               std                 11         0.001\n",
       "    5 │ test_base               memalloc            21         0.172\n",
       "    6 │ test_base               std                 21         0.006\n",
       "    7 │ test_base               memalloc            31         0.129\n",
       "    8 │ test_base               std                 31         0.007\n",
       "    9 │ test_base               memalloc            41         0.198\n",
       "   10 │ test_base               std                 41         0.01\n",
       "   11 │ test_base               memalloc            51         0.293\n",
       "  ⋮   │           ⋮                ⋮           ⋮             ⋮\n",
       " 4101 │ test_intensive_overlap  memalloc           461      4334.29\n",
       " 4102 │ test_intensive_overlap  std                461       785.751\n",
       " 4103 │ test_intensive_overlap  memalloc           471      4562.83\n",
       " 4104 │ test_intensive_overlap  std                471       829.897\n",
       " 4105 │ test_intensive_overlap  memalloc           481      7173.05\n",
       " 4106 │ test_intensive_overlap  std                481      1141.42\n",
       " 4107 │ test_intensive_overlap  memalloc           491      5352.33\n",
       " 4108 │ test_intensive_overlap  std                491       960.365\n",
       " 4109 │ test_intensive_overlap  memalloc           501      5376.92\n",
       " 4110 │ test_intensive_overlap  std                501      1017.34\n",
       "\u001b[36m                                                    4089 rows omitted\u001b[0m"
      ]
     },
     "execution_count": 6,
     "metadata": {},
     "output_type": "execute_result"
    }
   ],
   "source": [
    "data = DataFrames.DataFrame(CSV.File(\"res/results.csv\"))"
   ]
  },
  {
   "cell_type": "markdown",
   "metadata": {},
   "source": [
    "## Gerando DataFrames separados para cada tipo de teste"
   ]
  },
  {
   "cell_type": "code",
   "execution_count": 7,
   "metadata": {},
   "outputs": [
    {
     "name": "stdout",
     "output_type": "stream",
     "text": [
      "nrow(data) = 4110\n",
      "nrow(test_base) = 1002\n",
      "nrow(test_alloc_and_dealloc) = 1002\n",
      "nrow(test_alloc) = 1002\n",
      "nrow(test_overlap) = 1002\n",
      "nrow(test_intensive_overlap) = 102\n"
     ]
    },
    {
     "data": {
      "text/plain": [
       "102"
      ]
     },
     "execution_count": 7,
     "metadata": {},
     "output_type": "execute_result"
    }
   ],
   "source": [
    "test_base              = filter(row -> row.test == \"test_base\", data)\n",
    "test_alloc_and_dealloc = filter(row -> row.test == \"test_alloc_and_dealloc\", data)\n",
    "test_alloc             = filter(row -> row.test == \"test_alloc\", data)\n",
    "test_overlap           = filter(row -> row.test == \"test_overlap\", data)\n",
    "test_intensive_overlap = filter(row -> row.test == \"test_intensive_overlap\", data)\n",
    "\n",
    "\n",
    "@show nrow(data)\n",
    "@show nrow(test_base)\n",
    "@show nrow(test_alloc_and_dealloc)\n",
    "@show nrow(test_alloc)\n",
    "@show nrow(test_overlap)\n",
    "@show nrow(test_intensive_overlap)"
   ]
  },
  {
   "cell_type": "markdown",
   "metadata": {},
   "source": [
    "## Função de Plot genérica"
   ]
  },
  {
   "cell_type": "code",
   "execution_count": 8,
   "metadata": {},
   "outputs": [
    {
     "data": {
      "text/plain": [
       "get_plot (generic function with 1 method)"
      ]
     },
     "execution_count": 8,
     "metadata": {},
     "output_type": "execute_result"
    }
   ],
   "source": [
    "function get_plot(selected_test, title::String)\n",
    "    filter_mm = filter(row -> row.type == \"memalloc\", selected_test)\n",
    "    filter_std = filter(row -> row.type == \"std\", selected_test)\n",
    "\n",
    "    p = plot(filter_mm[!,\"interactions\"], filter_mm[!,\"elapsed_time\"], xlabel=\"Interactions\", ylabel=\"Elapsed Time\", title=title, label=\"Memalloc\")\n",
    "    plot!(filter_std[!,\"interactions\"], filter_std[!,\"elapsed_time\"], xlabel=\"Interactions\", ylabel=\"Elapsed Time\", label=\"Std\")\n",
    "    return p;\n",
    "end"
   ]
  },
  {
   "cell_type": "markdown",
   "metadata": {},
   "source": [
    "## Plots"
   ]
  },
  {
   "cell_type": "code",
   "execution_count": 14,
   "metadata": {},
   "outputs": [],
   "source": [
    "p = get_plot(test_base, \"Base Test\")\n",
    "savefig(\"graphs/Base_Test.png\")"
   ]
  },
  {
   "cell_type": "code",
   "execution_count": 15,
   "metadata": {},
   "outputs": [],
   "source": [
    "p = get_plot(test_alloc_and_dealloc, \"Alloc and Dealloc Test\")\n",
    "savefig(\"graphs/Alloc_Dealloc_Test.png\")"
   ]
  },
  {
   "cell_type": "code",
   "execution_count": 16,
   "metadata": {},
   "outputs": [],
   "source": [
    "p = get_plot(test_alloc, \"Alloc Test\")\n",
    "savefig(\"graphs/Alloc_Test.png\")"
   ]
  },
  {
   "cell_type": "code",
   "execution_count": 18,
   "metadata": {},
   "outputs": [],
   "source": [
    "p = get_plot(test_overlap, \"Overlap Test\")\n",
    "savefig(\"graphs/Overlap_Test.png\")"
   ]
  },
  {
   "cell_type": "code",
   "execution_count": 19,
   "metadata": {},
   "outputs": [],
   "source": [
    "p = get_plot(test_intensive_overlap, \"Intensive Overlap Test\")\n",
    "savefig(\"graphs/Intensive_Overlap_Test.png\")"
   ]
  },
  {
   "cell_type": "markdown",
   "metadata": {},
   "source": []
  }
 ],
 "metadata": {
  "kernelspec": {
   "display_name": "Julia 1.4.1",
   "language": "julia",
   "name": "julia-1.4"
  },
  "language_info": {
   "file_extension": ".jl",
   "mimetype": "application/julia",
   "name": "julia",
   "version": "1.4.1"
  }
 },
 "nbformat": 4,
 "nbformat_minor": 4
}
